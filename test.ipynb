{
 "cells": [
  {
   "cell_type": "code",
   "execution_count": 1,
   "metadata": {},
   "outputs": [],
   "source": [
    "%load_ext autoreload\n",
    "%autoreload 2"
   ]
  },
  {
   "cell_type": "code",
   "execution_count": 2,
   "metadata": {},
   "outputs": [],
   "source": [
    "import numpy as np\n",
    "import pandas as pd"
   ]
  },
  {
   "cell_type": "code",
   "execution_count": 4,
   "metadata": {},
   "outputs": [
    {
     "data": {
      "text/html": [
       "<div>\n",
       "<style scoped>\n",
       "    .dataframe tbody tr th:only-of-type {\n",
       "        vertical-align: middle;\n",
       "    }\n",
       "\n",
       "    .dataframe tbody tr th {\n",
       "        vertical-align: top;\n",
       "    }\n",
       "\n",
       "    .dataframe thead th {\n",
       "        text-align: right;\n",
       "    }\n",
       "</style>\n",
       "<table border=\"1\" class=\"dataframe\">\n",
       "  <thead>\n",
       "    <tr style=\"text-align: right;\">\n",
       "      <th></th>\n",
       "      <th>A</th>\n",
       "      <th>AAL</th>\n",
       "      <th>AAP</th>\n",
       "      <th>AAPL</th>\n",
       "      <th>ABBV</th>\n",
       "      <th>ABC</th>\n",
       "      <th>ABMD</th>\n",
       "      <th>ABT</th>\n",
       "      <th>ACN</th>\n",
       "      <th>ADBE</th>\n",
       "      <th>...</th>\n",
       "      <th>WYNN</th>\n",
       "      <th>XEL</th>\n",
       "      <th>XLNX</th>\n",
       "      <th>XRX</th>\n",
       "      <th>XYL</th>\n",
       "      <th>YUM</th>\n",
       "      <th>ZBH</th>\n",
       "      <th>ZBRA</th>\n",
       "      <th>ZION</th>\n",
       "      <th>ZTS</th>\n",
       "    </tr>\n",
       "  </thead>\n",
       "  <tbody>\n",
       "    <tr>\n",
       "      <th>2018-01-02 05:00:00+00:00</th>\n",
       "      <td>67.605</td>\n",
       "      <td>52.76</td>\n",
       "      <td>106.12</td>\n",
       "      <td>172.26</td>\n",
       "      <td>96.71</td>\n",
       "      <td>94.04</td>\n",
       "      <td>192.43</td>\n",
       "      <td>58.23</td>\n",
       "      <td>153.83</td>\n",
       "      <td>177.69</td>\n",
       "      <td>...</td>\n",
       "      <td>164.29</td>\n",
       "      <td>47.87</td>\n",
       "      <td>67.87</td>\n",
       "      <td>29.375</td>\n",
       "      <td>68.070</td>\n",
       "      <td>81.61</td>\n",
       "      <td>124.08</td>\n",
       "      <td>103.71</td>\n",
       "      <td>50.68</td>\n",
       "      <td>71.79</td>\n",
       "    </tr>\n",
       "    <tr>\n",
       "      <th>2018-01-03 05:00:00+00:00</th>\n",
       "      <td>69.340</td>\n",
       "      <td>52.12</td>\n",
       "      <td>107.04</td>\n",
       "      <td>172.18</td>\n",
       "      <td>99.94</td>\n",
       "      <td>94.42</td>\n",
       "      <td>195.77</td>\n",
       "      <td>58.36</td>\n",
       "      <td>154.50</td>\n",
       "      <td>180.98</td>\n",
       "      <td>...</td>\n",
       "      <td>162.45</td>\n",
       "      <td>47.49</td>\n",
       "      <td>69.23</td>\n",
       "      <td>29.330</td>\n",
       "      <td>68.870</td>\n",
       "      <td>81.53</td>\n",
       "      <td>124.93</td>\n",
       "      <td>105.74</td>\n",
       "      <td>50.64</td>\n",
       "      <td>72.09</td>\n",
       "    </tr>\n",
       "    <tr>\n",
       "      <th>2018-01-04 05:00:00+00:00</th>\n",
       "      <td>68.805</td>\n",
       "      <td>52.45</td>\n",
       "      <td>111.00</td>\n",
       "      <td>173.02</td>\n",
       "      <td>99.36</td>\n",
       "      <td>94.17</td>\n",
       "      <td>199.30</td>\n",
       "      <td>58.26</td>\n",
       "      <td>156.34</td>\n",
       "      <td>183.21</td>\n",
       "      <td>...</td>\n",
       "      <td>163.39</td>\n",
       "      <td>47.11</td>\n",
       "      <td>70.49</td>\n",
       "      <td>29.690</td>\n",
       "      <td>69.345</td>\n",
       "      <td>82.35</td>\n",
       "      <td>124.73</td>\n",
       "      <td>107.82</td>\n",
       "      <td>50.83</td>\n",
       "      <td>72.54</td>\n",
       "    </tr>\n",
       "    <tr>\n",
       "      <th>2018-01-05 05:00:00+00:00</th>\n",
       "      <td>69.890</td>\n",
       "      <td>52.65</td>\n",
       "      <td>112.17</td>\n",
       "      <td>174.96</td>\n",
       "      <td>99.36</td>\n",
       "      <td>95.33</td>\n",
       "      <td>202.28</td>\n",
       "      <td>58.99</td>\n",
       "      <td>157.66</td>\n",
       "      <td>185.35</td>\n",
       "      <td>...</td>\n",
       "      <td>164.48</td>\n",
       "      <td>46.78</td>\n",
       "      <td>74.16</td>\n",
       "      <td>29.910</td>\n",
       "      <td>69.230</td>\n",
       "      <td>82.84</td>\n",
       "      <td>125.98</td>\n",
       "      <td>109.60</td>\n",
       "      <td>50.86</td>\n",
       "      <td>73.34</td>\n",
       "    </tr>\n",
       "    <tr>\n",
       "      <th>2018-01-08 05:00:00+00:00</th>\n",
       "      <td>70.060</td>\n",
       "      <td>52.11</td>\n",
       "      <td>111.37</td>\n",
       "      <td>174.34</td>\n",
       "      <td>97.77</td>\n",
       "      <td>96.90</td>\n",
       "      <td>207.80</td>\n",
       "      <td>58.83</td>\n",
       "      <td>158.90</td>\n",
       "      <td>185.02</td>\n",
       "      <td>...</td>\n",
       "      <td>162.24</td>\n",
       "      <td>47.15</td>\n",
       "      <td>74.63</td>\n",
       "      <td>30.260</td>\n",
       "      <td>69.460</td>\n",
       "      <td>82.96</td>\n",
       "      <td>126.15</td>\n",
       "      <td>110.63</td>\n",
       "      <td>50.62</td>\n",
       "      <td>74.25</td>\n",
       "    </tr>\n",
       "  </tbody>\n",
       "</table>\n",
       "<p>5 rows × 482 columns</p>\n",
       "</div>"
      ],
      "text/plain": [
       "                                A    AAL     AAP    AAPL   ABBV    ABC  \\\n",
       "2018-01-02 05:00:00+00:00  67.605  52.76  106.12  172.26  96.71  94.04   \n",
       "2018-01-03 05:00:00+00:00  69.340  52.12  107.04  172.18  99.94  94.42   \n",
       "2018-01-04 05:00:00+00:00  68.805  52.45  111.00  173.02  99.36  94.17   \n",
       "2018-01-05 05:00:00+00:00  69.890  52.65  112.17  174.96  99.36  95.33   \n",
       "2018-01-08 05:00:00+00:00  70.060  52.11  111.37  174.34  97.77  96.90   \n",
       "\n",
       "                             ABMD    ABT     ACN    ADBE  ...    WYNN    XEL  \\\n",
       "2018-01-02 05:00:00+00:00  192.43  58.23  153.83  177.69  ...  164.29  47.87   \n",
       "2018-01-03 05:00:00+00:00  195.77  58.36  154.50  180.98  ...  162.45  47.49   \n",
       "2018-01-04 05:00:00+00:00  199.30  58.26  156.34  183.21  ...  163.39  47.11   \n",
       "2018-01-05 05:00:00+00:00  202.28  58.99  157.66  185.35  ...  164.48  46.78   \n",
       "2018-01-08 05:00:00+00:00  207.80  58.83  158.90  185.02  ...  162.24  47.15   \n",
       "\n",
       "                            XLNX     XRX     XYL    YUM     ZBH    ZBRA  \\\n",
       "2018-01-02 05:00:00+00:00  67.87  29.375  68.070  81.61  124.08  103.71   \n",
       "2018-01-03 05:00:00+00:00  69.23  29.330  68.870  81.53  124.93  105.74   \n",
       "2018-01-04 05:00:00+00:00  70.49  29.690  69.345  82.35  124.73  107.82   \n",
       "2018-01-05 05:00:00+00:00  74.16  29.910  69.230  82.84  125.98  109.60   \n",
       "2018-01-08 05:00:00+00:00  74.63  30.260  69.460  82.96  126.15  110.63   \n",
       "\n",
       "                            ZION    ZTS  \n",
       "2018-01-02 05:00:00+00:00  50.68  71.79  \n",
       "2018-01-03 05:00:00+00:00  50.64  72.09  \n",
       "2018-01-04 05:00:00+00:00  50.83  72.54  \n",
       "2018-01-05 05:00:00+00:00  50.86  73.34  \n",
       "2018-01-08 05:00:00+00:00  50.62  74.25  \n",
       "\n",
       "[5 rows x 482 columns]"
      ]
     },
     "execution_count": 4,
     "metadata": {},
     "output_type": "execute_result"
    }
   ],
   "source": [
    "sp500 = pd.read_csv('D:/Github/Pairs-Trading-Lab/dataset/sp500.csv', index_col=[0], parse_dates=[0])\n",
    "sp500.head()"
   ]
  },
  {
   "cell_type": "code",
   "execution_count": 6,
   "metadata": {},
   "outputs": [],
   "source": [
    "from utils import _partial_criteria"
   ]
  },
  {
   "cell_type": "code",
   "execution_count": 40,
   "metadata": {},
   "outputs": [],
   "source": [
    "X, Y = sp500['KEY'][:120], sp500['HBAN'][:120]"
   ]
  },
  {
   "cell_type": "code",
   "execution_count": 41,
   "metadata": {},
   "outputs": [
    {
     "name": "stdout",
     "output_type": "stream",
     "text": [
      "{'t_statistic': -2.2303933532169085, 'p_value': 0.19539989375051547, 'critical_values': {'1%': -3.4870216863700767, '5%': -2.8863625166643136, '10%': -2.580009026141913}}\n"
     ]
    }
   ],
   "source": [
    "(passed, spread, beta) = _partial_criteria(X, Y)"
   ]
  },
  {
   "cell_type": "code",
   "execution_count": 42,
   "metadata": {},
   "outputs": [
    {
     "data": {
      "text/plain": [
       "True"
      ]
     },
     "execution_count": 42,
     "metadata": {},
     "output_type": "execute_result"
    }
   ],
   "source": [
    "passed"
   ]
  },
  {
   "cell_type": "code",
   "execution_count": 43,
   "metadata": {},
   "outputs": [
    {
     "data": {
      "text/plain": [
       "2018-01-02 05:00:00+00:00    1.876910\n",
       "2018-01-03 05:00:00+00:00    1.967806\n",
       "2018-01-04 05:00:00+00:00    2.037402\n",
       "2018-01-05 05:00:00+00:00    2.163703\n",
       "2018-01-08 05:00:00+00:00    2.188905\n",
       "                               ...   \n",
       "2018-06-18 04:00:00+00:00    2.448097\n",
       "2018-06-19 04:00:00+00:00    2.393590\n",
       "2018-06-20 04:00:00+00:00    2.512491\n",
       "2018-06-21 04:00:00+00:00    2.590585\n",
       "2018-06-22 04:00:00+00:00    2.501998\n",
       "Length: 120, dtype: float64"
      ]
     },
     "execution_count": 43,
     "metadata": {},
     "output_type": "execute_result"
    }
   ],
   "source": [
    "spread"
   ]
  },
  {
   "cell_type": "code",
   "execution_count": 1,
   "metadata": {},
   "outputs": [],
   "source": [
    "import time\n",
    "import numpy as np\n",
    "import pandas as pd\n",
    "import alpaca_trade_api as tradeapi"
   ]
  },
  {
   "cell_type": "code",
   "execution_count": 2,
   "metadata": {},
   "outputs": [],
   "source": [
    "api_key = 'PK1C9602KLKVYJQKXXNI'\n",
    "api_secret = 'SKYIKdRmGRfPIHs9WSw0ChPMVKYTKe0nlaqP/3Vb'\n",
    "api = tradeapi.REST(api_key, api_secret, base_url='https://paper-api.alpaca.markets', api_version='v2')"
   ]
  },
  {
   "cell_type": "code",
   "execution_count": 3,
   "metadata": {},
   "outputs": [],
   "source": [
    "res = api.get_barset('KEY', '1D', limit=90).df"
   ]
  },
  {
   "cell_type": "code",
   "execution_count": 5,
   "metadata": {},
   "outputs": [
    {
     "data": {
      "text/html": [
       "<div>\n",
       "<style scoped>\n",
       "    .dataframe tbody tr th:only-of-type {\n",
       "        vertical-align: middle;\n",
       "    }\n",
       "\n",
       "    .dataframe tbody tr th {\n",
       "        vertical-align: top;\n",
       "    }\n",
       "\n",
       "    .dataframe thead th {\n",
       "        text-align: right;\n",
       "    }\n",
       "</style>\n",
       "<table border=\"1\" class=\"dataframe\">\n",
       "  <thead>\n",
       "    <tr style=\"text-align: right;\">\n",
       "      <th></th>\n",
       "      <th>open</th>\n",
       "      <th>high</th>\n",
       "      <th>low</th>\n",
       "      <th>close</th>\n",
       "      <th>volume</th>\n",
       "    </tr>\n",
       "  </thead>\n",
       "  <tbody>\n",
       "    <tr>\n",
       "      <th>2020-11-02 00:00:00-05:00</th>\n",
       "      <td>13.13</td>\n",
       "      <td>13.520</td>\n",
       "      <td>12.87</td>\n",
       "      <td>13.43</td>\n",
       "      <td>16250447</td>\n",
       "    </tr>\n",
       "    <tr>\n",
       "      <th>2020-11-03 00:00:00-05:00</th>\n",
       "      <td>13.75</td>\n",
       "      <td>13.940</td>\n",
       "      <td>13.64</td>\n",
       "      <td>13.77</td>\n",
       "      <td>9981256</td>\n",
       "    </tr>\n",
       "    <tr>\n",
       "      <th>2020-11-04 00:00:00-05:00</th>\n",
       "      <td>13.34</td>\n",
       "      <td>13.340</td>\n",
       "      <td>12.54</td>\n",
       "      <td>12.54</td>\n",
       "      <td>17705417</td>\n",
       "    </tr>\n",
       "    <tr>\n",
       "      <th>2020-11-05 00:00:00-05:00</th>\n",
       "      <td>12.62</td>\n",
       "      <td>13.305</td>\n",
       "      <td>12.61</td>\n",
       "      <td>13.16</td>\n",
       "      <td>13235584</td>\n",
       "    </tr>\n",
       "    <tr>\n",
       "      <th>2020-11-06 00:00:00-05:00</th>\n",
       "      <td>13.34</td>\n",
       "      <td>13.560</td>\n",
       "      <td>12.82</td>\n",
       "      <td>12.82</td>\n",
       "      <td>39906156</td>\n",
       "    </tr>\n",
       "    <tr>\n",
       "      <th>...</th>\n",
       "      <td>...</td>\n",
       "      <td>...</td>\n",
       "      <td>...</td>\n",
       "      <td>...</td>\n",
       "      <td>...</td>\n",
       "    </tr>\n",
       "    <tr>\n",
       "      <th>2021-03-08 00:00:00-05:00</th>\n",
       "      <td>20.98</td>\n",
       "      <td>21.550</td>\n",
       "      <td>20.74</td>\n",
       "      <td>21.21</td>\n",
       "      <td>11650532</td>\n",
       "    </tr>\n",
       "    <tr>\n",
       "      <th>2021-03-09 00:00:00-05:00</th>\n",
       "      <td>20.87</td>\n",
       "      <td>20.900</td>\n",
       "      <td>20.20</td>\n",
       "      <td>20.46</td>\n",
       "      <td>9673735</td>\n",
       "    </tr>\n",
       "    <tr>\n",
       "      <th>2021-03-10 00:00:00-05:00</th>\n",
       "      <td>20.47</td>\n",
       "      <td>21.160</td>\n",
       "      <td>20.39</td>\n",
       "      <td>21.16</td>\n",
       "      <td>10899349</td>\n",
       "    </tr>\n",
       "    <tr>\n",
       "      <th>2021-03-11 00:00:00-05:00</th>\n",
       "      <td>20.96</td>\n",
       "      <td>21.260</td>\n",
       "      <td>20.86</td>\n",
       "      <td>21.10</td>\n",
       "      <td>6472943</td>\n",
       "    </tr>\n",
       "    <tr>\n",
       "      <th>2021-03-12 00:00:00-05:00</th>\n",
       "      <td>21.43</td>\n",
       "      <td>21.580</td>\n",
       "      <td>21.15</td>\n",
       "      <td>21.29</td>\n",
       "      <td>7766281</td>\n",
       "    </tr>\n",
       "  </tbody>\n",
       "</table>\n",
       "<p>90 rows × 5 columns</p>\n",
       "</div>"
      ],
      "text/plain": [
       "                            open    high    low  close    volume\n",
       "2020-11-02 00:00:00-05:00  13.13  13.520  12.87  13.43  16250447\n",
       "2020-11-03 00:00:00-05:00  13.75  13.940  13.64  13.77   9981256\n",
       "2020-11-04 00:00:00-05:00  13.34  13.340  12.54  12.54  17705417\n",
       "2020-11-05 00:00:00-05:00  12.62  13.305  12.61  13.16  13235584\n",
       "2020-11-06 00:00:00-05:00  13.34  13.560  12.82  12.82  39906156\n",
       "...                          ...     ...    ...    ...       ...\n",
       "2021-03-08 00:00:00-05:00  20.98  21.550  20.74  21.21  11650532\n",
       "2021-03-09 00:00:00-05:00  20.87  20.900  20.20  20.46   9673735\n",
       "2021-03-10 00:00:00-05:00  20.47  21.160  20.39  21.16  10899349\n",
       "2021-03-11 00:00:00-05:00  20.96  21.260  20.86  21.10   6472943\n",
       "2021-03-12 00:00:00-05:00  21.43  21.580  21.15  21.29   7766281\n",
       "\n",
       "[90 rows x 5 columns]"
      ]
     },
     "execution_count": 5,
     "metadata": {},
     "output_type": "execute_result"
    }
   ],
   "source": [
    "res['KEY']"
   ]
  },
  {
   "cell_type": "code",
   "execution_count": 10,
   "metadata": {},
   "outputs": [],
   "source": [
    "def get_price_data(asset:str, limit:int)->pd.Series:\n",
    "    res = api.get_barset(asset, '1D', limit=limit)\n",
    "    df = res.df[asset]\n",
    "    return df['close']"
   ]
  },
  {
   "cell_type": "code",
   "execution_count": 11,
   "metadata": {},
   "outputs": [
    {
     "data": {
      "text/plain": [
       "2020-11-02 00:00:00-05:00    13.43\n",
       "2020-11-03 00:00:00-05:00    13.77\n",
       "2020-11-04 00:00:00-05:00    12.54\n",
       "2020-11-05 00:00:00-05:00    13.16\n",
       "2020-11-06 00:00:00-05:00    12.82\n",
       "                             ...  \n",
       "2021-03-08 00:00:00-05:00    21.21\n",
       "2021-03-09 00:00:00-05:00    20.46\n",
       "2021-03-10 00:00:00-05:00    21.16\n",
       "2021-03-11 00:00:00-05:00    21.10\n",
       "2021-03-12 00:00:00-05:00    21.29\n",
       "Name: close, Length: 90, dtype: float64"
      ]
     },
     "execution_count": 11,
     "metadata": {},
     "output_type": "execute_result"
    }
   ],
   "source": [
    "get_price_data(asset='KEY', limit=90)"
   ]
  },
  {
   "cell_type": "code",
   "execution_count": 17,
   "metadata": {},
   "outputs": [],
   "source": [
    "def OMS(asset:str, qty:float)->None:\n",
    "    if qty != 0:\n",
    "        if qty > 0:\n",
    "            side = 'buy'\n",
    "        else:\n",
    "            side = 'sell'\n",
    "        QTY = abs(qty)\n",
    "        resp = api.submit_order(symbol=asset,\n",
    "                                qty=QTY,\n",
    "                                side=side,\n",
    "                                type='market',\n",
    "                                time_in_force='day')\n",
    "        print(resp)\n",
    "    else:\n",
    "        try:\n",
    "            #close the existing order\n",
    "            resp = api.close_position(asset)\n",
    "            \n",
    "        except Exception as e:\n",
    "            pass"
   ]
  },
  {
   "cell_type": "code",
   "execution_count": 18,
   "metadata": {},
   "outputs": [
    {
     "name": "stdout",
     "output_type": "stream",
     "text": [
      "Order({   'asset_class': 'us_equity',\n",
      "    'asset_id': 'f7623733-d5b7-4d6b-b04a-fedeed0f2e64',\n",
      "    'canceled_at': None,\n",
      "    'client_order_id': '3f793843-a62d-4cb4-8df2-53dd871f19c7',\n",
      "    'created_at': '2021-03-13T08:33:42.060036Z',\n",
      "    'expired_at': None,\n",
      "    'extended_hours': False,\n",
      "    'failed_at': None,\n",
      "    'filled_at': None,\n",
      "    'filled_avg_price': None,\n",
      "    'filled_qty': '0',\n",
      "    'hwm': None,\n",
      "    'id': 'e9efd3aa-0ec8-46fe-91a1-4790d584a6e2',\n",
      "    'legs': None,\n",
      "    'limit_price': None,\n",
      "    'notional': None,\n",
      "    'order_class': '',\n",
      "    'order_type': 'market',\n",
      "    'qty': '2',\n",
      "    'replaced_at': None,\n",
      "    'replaced_by': None,\n",
      "    'replaces': None,\n",
      "    'side': 'buy',\n",
      "    'status': 'accepted',\n",
      "    'stop_price': None,\n",
      "    'submitted_at': '2021-03-13T08:33:42.053409Z',\n",
      "    'symbol': 'KEY',\n",
      "    'time_in_force': 'day',\n",
      "    'trail_percent': None,\n",
      "    'trail_price': None,\n",
      "    'type': 'market',\n",
      "    'updated_at': '2021-03-13T08:33:42.060036Z'})\n"
     ]
    }
   ],
   "source": [
    "OMS('KEY', 2)"
   ]
  },
  {
   "cell_type": "code",
   "execution_count": 19,
   "metadata": {},
   "outputs": [],
   "source": [
    "clock = api.get_clock()"
   ]
  },
  {
   "cell_type": "code",
   "execution_count": 20,
   "metadata": {},
   "outputs": [
    {
     "data": {
      "text/plain": [
       "Timestamp('2021-03-15 09:30:00-0400', tz='pytz.FixedOffset(-240)')"
      ]
     },
     "execution_count": 20,
     "metadata": {},
     "output_type": "execute_result"
    }
   ],
   "source": [
    "clock.next_open"
   ]
  },
  {
   "cell_type": "code",
   "execution_count": null,
   "metadata": {},
   "outputs": [],
   "source": []
  }
 ],
 "metadata": {
  "kernelspec": {
   "display_name": "Python 3",
   "language": "python",
   "name": "python3"
  },
  "language_info": {
   "codemirror_mode": {
    "name": "ipython",
    "version": 3
   },
   "file_extension": ".py",
   "mimetype": "text/x-python",
   "name": "python",
   "nbconvert_exporter": "python",
   "pygments_lexer": "ipython3",
   "version": "3.8.3"
  }
 },
 "nbformat": 4,
 "nbformat_minor": 4
}
